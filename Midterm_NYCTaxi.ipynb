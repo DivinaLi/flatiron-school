{
 "cells": [
  {
   "cell_type": "markdown",
   "metadata": {},
   "source": [
    "# Midterm\n",
    "* Load Data\n",
    "* Exploratory Analysis\n",
    "* Initial Model\n",
    "* Evaluation\n",
    "* Feature Engineering\n",
    "* Model 2\n",
    "* Evaluation\n",
    "* Further Investigation/Exploration"
   ]
  },
  {
   "cell_type": "markdown",
   "metadata": {},
   "source": [
    "## Load Data\n",
    "* Standard Package Imports\n",
    "* Import Dataframe"
   ]
  },
  {
   "cell_type": "code",
   "execution_count": 2,
   "metadata": {},
   "outputs": [],
   "source": [
    "#standard package imports\n",
    "import numpy as np\n",
    "import pandas as pd\n",
    "import seaborn as sns\n",
    "import matplotlib.pyplot as plt\n",
    "%matplotlib inline"
   ]
  },
  {
   "cell_type": "code",
   "execution_count": 3,
   "metadata": {},
   "outputs": [],
   "source": [
    "df = pd.read_csv('./Datasets/NYC_Cab_Duration.csv')"
   ]
  },
  {
   "cell_type": "code",
   "execution_count": 4,
   "metadata": {},
   "outputs": [
    {
     "data": {
      "text/html": [
       "<div>\n",
       "<style scoped>\n",
       "    .dataframe tbody tr th:only-of-type {\n",
       "        vertical-align: middle;\n",
       "    }\n",
       "\n",
       "    .dataframe tbody tr th {\n",
       "        vertical-align: top;\n",
       "    }\n",
       "\n",
       "    .dataframe thead th {\n",
       "        text-align: right;\n",
       "    }\n",
       "</style>\n",
       "<table border=\"1\" class=\"dataframe\">\n",
       "  <thead>\n",
       "    <tr style=\"text-align: right;\">\n",
       "      <th></th>\n",
       "      <th>Unnamed: 0</th>\n",
       "      <th>id</th>\n",
       "      <th>vendor_id</th>\n",
       "      <th>pickup_datetime</th>\n",
       "      <th>dropoff_datetime</th>\n",
       "      <th>passenger_count</th>\n",
       "      <th>pickup_longitude</th>\n",
       "      <th>pickup_latitude</th>\n",
       "      <th>dropoff_longitude</th>\n",
       "      <th>dropoff_latitude</th>\n",
       "      <th>store_and_fwd_flag</th>\n",
       "      <th>trip_duration</th>\n",
       "    </tr>\n",
       "  </thead>\n",
       "  <tbody>\n",
       "    <tr>\n",
       "      <th>0</th>\n",
       "      <td>583100</td>\n",
       "      <td>id3879397</td>\n",
       "      <td>1</td>\n",
       "      <td>2016-06-02 17:46:16</td>\n",
       "      <td>2016-06-02 18:22:26</td>\n",
       "      <td>1</td>\n",
       "      <td>-73.990105</td>\n",
       "      <td>40.732841</td>\n",
       "      <td>-73.973244</td>\n",
       "      <td>40.782879</td>\n",
       "      <td>N</td>\n",
       "      <td>2170</td>\n",
       "    </tr>\n",
       "    <tr>\n",
       "      <th>1</th>\n",
       "      <td>1320440</td>\n",
       "      <td>id0701659</td>\n",
       "      <td>1</td>\n",
       "      <td>2016-03-02 10:07:11</td>\n",
       "      <td>2016-03-02 10:20:39</td>\n",
       "      <td>1</td>\n",
       "      <td>-73.975693</td>\n",
       "      <td>40.759712</td>\n",
       "      <td>-73.988235</td>\n",
       "      <td>40.753986</td>\n",
       "      <td>N</td>\n",
       "      <td>808</td>\n",
       "    </tr>\n",
       "    <tr>\n",
       "      <th>2</th>\n",
       "      <td>358078</td>\n",
       "      <td>id3093367</td>\n",
       "      <td>2</td>\n",
       "      <td>2016-02-17 17:18:27</td>\n",
       "      <td>2016-02-17 18:21:34</td>\n",
       "      <td>2</td>\n",
       "      <td>-73.781830</td>\n",
       "      <td>40.644772</td>\n",
       "      <td>-73.989960</td>\n",
       "      <td>40.747150</td>\n",
       "      <td>N</td>\n",
       "      <td>3787</td>\n",
       "    </tr>\n",
       "    <tr>\n",
       "      <th>3</th>\n",
       "      <td>1118733</td>\n",
       "      <td>id0727316</td>\n",
       "      <td>2</td>\n",
       "      <td>2016-03-17 07:30:59</td>\n",
       "      <td>2016-03-17 07:42:18</td>\n",
       "      <td>1</td>\n",
       "      <td>-73.956200</td>\n",
       "      <td>40.778713</td>\n",
       "      <td>-73.976463</td>\n",
       "      <td>40.739731</td>\n",
       "      <td>N</td>\n",
       "      <td>679</td>\n",
       "    </tr>\n",
       "    <tr>\n",
       "      <th>4</th>\n",
       "      <td>110409</td>\n",
       "      <td>id2137873</td>\n",
       "      <td>2</td>\n",
       "      <td>2016-04-20 17:15:26</td>\n",
       "      <td>2016-04-20 18:01:57</td>\n",
       "      <td>6</td>\n",
       "      <td>-73.789513</td>\n",
       "      <td>40.646938</td>\n",
       "      <td>-73.951851</td>\n",
       "      <td>40.809151</td>\n",
       "      <td>N</td>\n",
       "      <td>2791</td>\n",
       "    </tr>\n",
       "  </tbody>\n",
       "</table>\n",
       "</div>"
      ],
      "text/plain": [
       "   Unnamed: 0         id  vendor_id      pickup_datetime     dropoff_datetime  \\\n",
       "0      583100  id3879397          1  2016-06-02 17:46:16  2016-06-02 18:22:26   \n",
       "1     1320440  id0701659          1  2016-03-02 10:07:11  2016-03-02 10:20:39   \n",
       "2      358078  id3093367          2  2016-02-17 17:18:27  2016-02-17 18:21:34   \n",
       "3     1118733  id0727316          2  2016-03-17 07:30:59  2016-03-17 07:42:18   \n",
       "4      110409  id2137873          2  2016-04-20 17:15:26  2016-04-20 18:01:57   \n",
       "\n",
       "   passenger_count  pickup_longitude  pickup_latitude  dropoff_longitude  \\\n",
       "0                1        -73.990105        40.732841         -73.973244   \n",
       "1                1        -73.975693        40.759712         -73.988235   \n",
       "2                2        -73.781830        40.644772         -73.989960   \n",
       "3                1        -73.956200        40.778713         -73.976463   \n",
       "4                6        -73.789513        40.646938         -73.951851   \n",
       "\n",
       "   dropoff_latitude store_and_fwd_flag  trip_duration  \n",
       "0         40.782879                  N           2170  \n",
       "1         40.753986                  N            808  \n",
       "2         40.747150                  N           3787  \n",
       "3         40.739731                  N            679  \n",
       "4         40.809151                  N           2791  "
      ]
     },
     "execution_count": 4,
     "metadata": {},
     "output_type": "execute_result"
    }
   ],
   "source": [
    "df.head()"
   ]
  },
  {
   "cell_type": "code",
   "execution_count": 5,
   "metadata": {},
   "outputs": [
    {
     "name": "stdout",
     "output_type": "stream",
     "text": [
      "<class 'pandas.core.frame.DataFrame'>\n",
      "RangeIndex: 583458 entries, 0 to 583457\n",
      "Data columns (total 12 columns):\n",
      "Unnamed: 0            583458 non-null int64\n",
      "id                    583458 non-null object\n",
      "vendor_id             583458 non-null int64\n",
      "pickup_datetime       583458 non-null object\n",
      "dropoff_datetime      583458 non-null object\n",
      "passenger_count       583458 non-null int64\n",
      "pickup_longitude      583458 non-null float64\n",
      "pickup_latitude       583458 non-null float64\n",
      "dropoff_longitude     583458 non-null float64\n",
      "dropoff_latitude      583458 non-null float64\n",
      "store_and_fwd_flag    583458 non-null object\n",
      "trip_duration         583458 non-null int64\n",
      "dtypes: float64(4), int64(4), object(4)\n",
      "memory usage: 53.4+ MB\n"
     ]
    }
   ],
   "source": [
    "df.info()"
   ]
  },
  {
   "cell_type": "markdown",
   "metadata": {},
   "source": [
    "## Exploratory Analysis\n",
    "#### For Later\n",
    "* Use pickup_datetime and dropoff_datetime, transform to days of the week\n",
    "https://pandas.pydata.org/pandas-docs/stable/generated/pandas.to_datetime.html\n",
    "* Use Timeseries to perform data analysis\n",
    "https://pandas.pydata.org/pandas-docs/stable/timeseries.html"
   ]
  },
  {
   "cell_type": "code",
   "execution_count": 6,
   "metadata": {},
   "outputs": [
    {
     "name": "stdout",
     "output_type": "stream",
     "text": [
      "<class 'pandas.core.frame.DataFrame'>\n",
      "RangeIndex: 583458 entries, 0 to 583457\n",
      "Data columns (total 12 columns):\n",
      "Unnamed: 0            583458 non-null int64\n",
      "id                    583458 non-null object\n",
      "vendor_id             583458 non-null int64\n",
      "pickup_datetime       583458 non-null object\n",
      "dropoff_datetime      583458 non-null object\n",
      "passenger_count       583458 non-null int64\n",
      "pickup_longitude      583458 non-null float64\n",
      "pickup_latitude       583458 non-null float64\n",
      "dropoff_longitude     583458 non-null float64\n",
      "dropoff_latitude      583458 non-null float64\n",
      "store_and_fwd_flag    583458 non-null object\n",
      "trip_duration         583458 non-null int64\n",
      "dtypes: float64(4), int64(4), object(4)\n",
      "memory usage: 53.4+ MB\n"
     ]
    }
   ],
   "source": [
    "df.info()"
   ]
  },
  {
   "cell_type": "code",
   "execution_count": 7,
   "metadata": {},
   "outputs": [],
   "source": [
    "#Converting trip_duration to minutes\n",
    "df['trip_duration_minutes'] = df['trip_duration']/60"
   ]
  },
  {
   "cell_type": "code",
   "execution_count": 8,
   "metadata": {},
   "outputs": [
    {
     "data": {
      "text/plain": [
       "Index(['Unnamed: 0', 'id', 'vendor_id', 'pickup_datetime', 'dropoff_datetime',\n",
       "       'passenger_count', 'pickup_longitude', 'pickup_latitude',\n",
       "       'dropoff_longitude', 'dropoff_latitude', 'store_and_fwd_flag',\n",
       "       'trip_duration', 'trip_duration_minutes'],\n",
       "      dtype='object')"
      ]
     },
     "execution_count": 8,
     "metadata": {},
     "output_type": "execute_result"
    }
   ],
   "source": [
    "df.columns"
   ]
  },
  {
   "cell_type": "markdown",
   "metadata": {},
   "source": [
    "#### Use datetime methods to turn pickup_datetime and dropoff_datetime to days of the week"
   ]
  },
  {
   "cell_type": "code",
   "execution_count": 9,
   "metadata": {},
   "outputs": [],
   "source": [
    "#df.pickup_datetime = pd.to_datetime(df.pickup_datetime)\n",
    "#pd.to_datetime(df.pickup_datetime).head()"
   ]
  },
  {
   "cell_type": "code",
   "execution_count": 10,
   "metadata": {},
   "outputs": [],
   "source": [
    "df.pickup_datetime = pd.to_datetime(df.pickup_datetime)"
   ]
  },
  {
   "cell_type": "code",
   "execution_count": 12,
   "metadata": {},
   "outputs": [
    {
     "name": "stdout",
     "output_type": "stream",
     "text": [
      "<class 'pandas.core.frame.DataFrame'>\n",
      "RangeIndex: 583458 entries, 0 to 583457\n",
      "Data columns (total 13 columns):\n",
      "Unnamed: 0               583458 non-null int64\n",
      "id                       583458 non-null object\n",
      "vendor_id                583458 non-null int64\n",
      "pickup_datetime          583458 non-null datetime64[ns]\n",
      "dropoff_datetime         583458 non-null object\n",
      "passenger_count          583458 non-null int64\n",
      "pickup_longitude         583458 non-null float64\n",
      "pickup_latitude          583458 non-null float64\n",
      "dropoff_longitude        583458 non-null float64\n",
      "dropoff_latitude         583458 non-null float64\n",
      "store_and_fwd_flag       583458 non-null object\n",
      "trip_duration            583458 non-null int64\n",
      "trip_duration_minutes    583458 non-null float64\n",
      "dtypes: datetime64[ns](1), float64(5), int64(4), object(3)\n",
      "memory usage: 57.9+ MB\n"
     ]
    }
   ],
   "source": [
    "df.info()"
   ]
  },
  {
   "cell_type": "code",
   "execution_count": 13,
   "metadata": {},
   "outputs": [],
   "source": [
    "df.dropoff_datetime = pd.to_datetime(df.dropoff_datetime)"
   ]
  },
  {
   "cell_type": "code",
   "execution_count": 14,
   "metadata": {},
   "outputs": [
    {
     "name": "stdout",
     "output_type": "stream",
     "text": [
      "<class 'pandas.core.frame.DataFrame'>\n",
      "RangeIndex: 583458 entries, 0 to 583457\n",
      "Data columns (total 13 columns):\n",
      "Unnamed: 0               583458 non-null int64\n",
      "id                       583458 non-null object\n",
      "vendor_id                583458 non-null int64\n",
      "pickup_datetime          583458 non-null datetime64[ns]\n",
      "dropoff_datetime         583458 non-null datetime64[ns]\n",
      "passenger_count          583458 non-null int64\n",
      "pickup_longitude         583458 non-null float64\n",
      "pickup_latitude          583458 non-null float64\n",
      "dropoff_longitude        583458 non-null float64\n",
      "dropoff_latitude         583458 non-null float64\n",
      "store_and_fwd_flag       583458 non-null object\n",
      "trip_duration            583458 non-null int64\n",
      "trip_duration_minutes    583458 non-null float64\n",
      "dtypes: datetime64[ns](2), float64(5), int64(4), object(2)\n",
      "memory usage: 57.9+ MB\n"
     ]
    }
   ],
   "source": [
    "df.info()"
   ]
  },
  {
   "cell_type": "code",
   "execution_count": 15,
   "metadata": {},
   "outputs": [
    {
     "data": {
      "text/plain": [
       "0     Thursday\n",
       "1    Wednesday\n",
       "2    Wednesday\n",
       "3     Thursday\n",
       "4    Wednesday\n",
       "Name: pickup_datetime, dtype: object"
      ]
     },
     "execution_count": 15,
     "metadata": {},
     "output_type": "execute_result"
    }
   ],
   "source": [
    "df.pickup_datetime.dt.day_name().head()"
   ]
  },
  {
   "cell_type": "code",
   "execution_count": 16,
   "metadata": {},
   "outputs": [],
   "source": [
    "df['Pickup_dayofweek'] = df.pickup_datetime.dt.day_name()"
   ]
  },
  {
   "cell_type": "code",
   "execution_count": 17,
   "metadata": {},
   "outputs": [
    {
     "data": {
      "text/html": [
       "<div>\n",
       "<style scoped>\n",
       "    .dataframe tbody tr th:only-of-type {\n",
       "        vertical-align: middle;\n",
       "    }\n",
       "\n",
       "    .dataframe tbody tr th {\n",
       "        vertical-align: top;\n",
       "    }\n",
       "\n",
       "    .dataframe thead th {\n",
       "        text-align: right;\n",
       "    }\n",
       "</style>\n",
       "<table border=\"1\" class=\"dataframe\">\n",
       "  <thead>\n",
       "    <tr style=\"text-align: right;\">\n",
       "      <th></th>\n",
       "      <th>Unnamed: 0</th>\n",
       "      <th>id</th>\n",
       "      <th>vendor_id</th>\n",
       "      <th>pickup_datetime</th>\n",
       "      <th>dropoff_datetime</th>\n",
       "      <th>passenger_count</th>\n",
       "      <th>pickup_longitude</th>\n",
       "      <th>pickup_latitude</th>\n",
       "      <th>dropoff_longitude</th>\n",
       "      <th>dropoff_latitude</th>\n",
       "      <th>store_and_fwd_flag</th>\n",
       "      <th>trip_duration</th>\n",
       "      <th>trip_duration_minutes</th>\n",
       "      <th>Pickup_dayofweek</th>\n",
       "    </tr>\n",
       "  </thead>\n",
       "  <tbody>\n",
       "    <tr>\n",
       "      <th>0</th>\n",
       "      <td>583100</td>\n",
       "      <td>id3879397</td>\n",
       "      <td>1</td>\n",
       "      <td>2016-06-02 17:46:16</td>\n",
       "      <td>2016-06-02 18:22:26</td>\n",
       "      <td>1</td>\n",
       "      <td>-73.990105</td>\n",
       "      <td>40.732841</td>\n",
       "      <td>-73.973244</td>\n",
       "      <td>40.782879</td>\n",
       "      <td>N</td>\n",
       "      <td>2170</td>\n",
       "      <td>36.166667</td>\n",
       "      <td>Thursday</td>\n",
       "    </tr>\n",
       "    <tr>\n",
       "      <th>1</th>\n",
       "      <td>1320440</td>\n",
       "      <td>id0701659</td>\n",
       "      <td>1</td>\n",
       "      <td>2016-03-02 10:07:11</td>\n",
       "      <td>2016-03-02 10:20:39</td>\n",
       "      <td>1</td>\n",
       "      <td>-73.975693</td>\n",
       "      <td>40.759712</td>\n",
       "      <td>-73.988235</td>\n",
       "      <td>40.753986</td>\n",
       "      <td>N</td>\n",
       "      <td>808</td>\n",
       "      <td>13.466667</td>\n",
       "      <td>Wednesday</td>\n",
       "    </tr>\n",
       "    <tr>\n",
       "      <th>2</th>\n",
       "      <td>358078</td>\n",
       "      <td>id3093367</td>\n",
       "      <td>2</td>\n",
       "      <td>2016-02-17 17:18:27</td>\n",
       "      <td>2016-02-17 18:21:34</td>\n",
       "      <td>2</td>\n",
       "      <td>-73.781830</td>\n",
       "      <td>40.644772</td>\n",
       "      <td>-73.989960</td>\n",
       "      <td>40.747150</td>\n",
       "      <td>N</td>\n",
       "      <td>3787</td>\n",
       "      <td>63.116667</td>\n",
       "      <td>Wednesday</td>\n",
       "    </tr>\n",
       "    <tr>\n",
       "      <th>3</th>\n",
       "      <td>1118733</td>\n",
       "      <td>id0727316</td>\n",
       "      <td>2</td>\n",
       "      <td>2016-03-17 07:30:59</td>\n",
       "      <td>2016-03-17 07:42:18</td>\n",
       "      <td>1</td>\n",
       "      <td>-73.956200</td>\n",
       "      <td>40.778713</td>\n",
       "      <td>-73.976463</td>\n",
       "      <td>40.739731</td>\n",
       "      <td>N</td>\n",
       "      <td>679</td>\n",
       "      <td>11.316667</td>\n",
       "      <td>Thursday</td>\n",
       "    </tr>\n",
       "    <tr>\n",
       "      <th>4</th>\n",
       "      <td>110409</td>\n",
       "      <td>id2137873</td>\n",
       "      <td>2</td>\n",
       "      <td>2016-04-20 17:15:26</td>\n",
       "      <td>2016-04-20 18:01:57</td>\n",
       "      <td>6</td>\n",
       "      <td>-73.789513</td>\n",
       "      <td>40.646938</td>\n",
       "      <td>-73.951851</td>\n",
       "      <td>40.809151</td>\n",
       "      <td>N</td>\n",
       "      <td>2791</td>\n",
       "      <td>46.516667</td>\n",
       "      <td>Wednesday</td>\n",
       "    </tr>\n",
       "  </tbody>\n",
       "</table>\n",
       "</div>"
      ],
      "text/plain": [
       "   Unnamed: 0         id  vendor_id     pickup_datetime    dropoff_datetime  \\\n",
       "0      583100  id3879397          1 2016-06-02 17:46:16 2016-06-02 18:22:26   \n",
       "1     1320440  id0701659          1 2016-03-02 10:07:11 2016-03-02 10:20:39   \n",
       "2      358078  id3093367          2 2016-02-17 17:18:27 2016-02-17 18:21:34   \n",
       "3     1118733  id0727316          2 2016-03-17 07:30:59 2016-03-17 07:42:18   \n",
       "4      110409  id2137873          2 2016-04-20 17:15:26 2016-04-20 18:01:57   \n",
       "\n",
       "   passenger_count  pickup_longitude  pickup_latitude  dropoff_longitude  \\\n",
       "0                1        -73.990105        40.732841         -73.973244   \n",
       "1                1        -73.975693        40.759712         -73.988235   \n",
       "2                2        -73.781830        40.644772         -73.989960   \n",
       "3                1        -73.956200        40.778713         -73.976463   \n",
       "4                6        -73.789513        40.646938         -73.951851   \n",
       "\n",
       "   dropoff_latitude store_and_fwd_flag  trip_duration  trip_duration_minutes  \\\n",
       "0         40.782879                  N           2170              36.166667   \n",
       "1         40.753986                  N            808              13.466667   \n",
       "2         40.747150                  N           3787              63.116667   \n",
       "3         40.739731                  N            679              11.316667   \n",
       "4         40.809151                  N           2791              46.516667   \n",
       "\n",
       "  Pickup_dayofweek  \n",
       "0         Thursday  \n",
       "1        Wednesday  \n",
       "2        Wednesday  \n",
       "3         Thursday  \n",
       "4        Wednesday  "
      ]
     },
     "execution_count": 17,
     "metadata": {},
     "output_type": "execute_result"
    }
   ],
   "source": [
    "df.head()"
   ]
  },
  {
   "cell_type": "markdown",
   "metadata": {},
   "source": [
    "#### Finding the average trip duration by day"
   ]
  },
  {
   "cell_type": "code",
   "execution_count": 18,
   "metadata": {},
   "outputs": [],
   "source": [
    "day_avg = df.groupby('Pickup_dayofweek')['trip_duration_minutes'].mean()"
   ]
  },
  {
   "cell_type": "code",
   "execution_count": 19,
   "metadata": {},
   "outputs": [
    {
     "data": {
      "text/plain": [
       "Pickup_dayofweek\n",
       "Friday       16.476532\n",
       "Monday       15.033008\n",
       "Saturday     15.898071\n",
       "Sunday       14.884801\n",
       "Thursday     16.675817\n",
       "Tuesday      16.760971\n",
       "Wednesday    16.319615\n",
       "Name: trip_duration_minutes, dtype: float64"
      ]
     },
     "execution_count": 19,
     "metadata": {},
     "output_type": "execute_result"
    }
   ],
   "source": [
    "day_avg"
   ]
  },
  {
   "cell_type": "code",
   "execution_count": 18,
   "metadata": {},
   "outputs": [
    {
     "data": {
      "text/plain": [
       "dtype('float64')"
      ]
     },
     "execution_count": 18,
     "metadata": {},
     "output_type": "execute_result"
    }
   ],
   "source": [
    "day_avg.dtypes"
   ]
  },
  {
   "cell_type": "code",
   "execution_count": 20,
   "metadata": {},
   "outputs": [],
   "source": [
    "day_avg = df.groupby ('Pickup_dayofweek')['trip_duration_minutes'].mean()\n",
    "day_avg = day_avg.to_frame().reset_index()\n",
    "\n",
    "day_avg['Pickup_dayofweek']= pd.Categorical(day_avg['Pickup_dayofweek'],\n",
    "                                   ['Sunday', 'Monday', 'Tuesday', 'Wednesday', 'Thursday', 'Friday', 'Saturday'], ordered=True)\n",
    "\n",
    "day_avg = day_avg.sort_values('Pickup_dayofweek')\n",
    "\n",
    "day_avg = day_avg.set_index('Pickup_dayofweek')"
   ]
  },
  {
   "cell_type": "code",
   "execution_count": 21,
   "metadata": {},
   "outputs": [
    {
     "data": {
      "text/plain": [
       "Text(0,0.5,'Day of the Week')"
      ]
     },
     "execution_count": 21,
     "metadata": {},
     "output_type": "execute_result"
    },
    {
     "data": {
      "image/png": "[encoded data removed]",
      "text/plain": [
       "<Figure size 432x288 with 1 Axes>"
      ]
     },
     "metadata": {
      "needs_background": "light"
     },
     "output_type": "display_data"
    }
   ],
   "source": [
    "day_avg.plot(kind='barh')\n",
    "plt.title('Average Taxi Trip Duration');\n",
    "plt.xlabel('Average Trip Duration in Minutes');\n",
    "plt.ylabel('Day of the Week')\n"
   ]
  },
  {
   "cell_type": "markdown",
   "metadata": {},
   "source": [
    "#### Create Time Brackets labelled Morning_Rush and Evening_Rush\n",
    "* Morning_Rush_Hour will be 7:00 AM to 9:00\n",
    "* Evening_Rush_Hour will be 16:00  to 18:00"
   ]
  },
  {
   "cell_type": "markdown",
   "metadata": {},
   "source": [
    "##### Convert the pickup datetime field to get \"Pickup_hourofday\""
   ]
  },
  {
   "cell_type": "code",
   "execution_count": 22,
   "metadata": {},
   "outputs": [
    {
     "name": "stdout",
     "output_type": "stream",
     "text": [
      "<class 'pandas.core.frame.DataFrame'>\n",
      "RangeIndex: 583458 entries, 0 to 583457\n",
      "Data columns (total 14 columns):\n",
      "Unnamed: 0               583458 non-null int64\n",
      "id                       583458 non-null object\n",
      "vendor_id                583458 non-null int64\n",
      "pickup_datetime          583458 non-null datetime64[ns]\n",
      "dropoff_datetime         583458 non-null datetime64[ns]\n",
      "passenger_count          583458 non-null int64\n",
      "pickup_longitude         583458 non-null float64\n",
      "pickup_latitude          583458 non-null float64\n",
      "dropoff_longitude        583458 non-null float64\n",
      "dropoff_latitude         583458 non-null float64\n",
      "store_and_fwd_flag       583458 non-null object\n",
      "trip_duration            583458 non-null int64\n",
      "trip_duration_minutes    583458 non-null float64\n",
      "Pickup_dayofweek         583458 non-null object\n",
      "dtypes: datetime64[ns](2), float64(5), int64(4), object(3)\n",
      "memory usage: 62.3+ MB\n"
     ]
    }
   ],
   "source": [
    "df.info()"
   ]
  },
  {
   "cell_type": "code",
   "execution_count": 23,
   "metadata": {},
   "outputs": [],
   "source": [
    "df['pickup_hourofday'] = df.pickup_datetime.dt.hour\n",
    "df['dropoff_hourofday']= df.dropoff_datetime.dt.hour"
   ]
  },
  {
   "cell_type": "code",
   "execution_count": 24,
   "metadata": {},
   "outputs": [
    {
     "data": {
      "text/html": [
       "<div>\n",
       "<style scoped>\n",
       "    .dataframe tbody tr th:only-of-type {\n",
       "        vertical-align: middle;\n",
       "    }\n",
       "\n",
       "    .dataframe tbody tr th {\n",
       "        vertical-align: top;\n",
       "    }\n",
       "\n",
       "    .dataframe thead th {\n",
       "        text-align: right;\n",
       "    }\n",
       "</style>\n",
       "<table border=\"1\" class=\"dataframe\">\n",
       "  <thead>\n",
       "    <tr style=\"text-align: right;\">\n",
       "      <th></th>\n",
       "      <th>Unnamed: 0</th>\n",
       "      <th>id</th>\n",
       "      <th>vendor_id</th>\n",
       "      <th>pickup_datetime</th>\n",
       "      <th>dropoff_datetime</th>\n",
       "      <th>passenger_count</th>\n",
       "      <th>pickup_longitude</th>\n",
       "      <th>pickup_latitude</th>\n",
       "      <th>dropoff_longitude</th>\n",
       "      <th>dropoff_latitude</th>\n",
       "      <th>store_and_fwd_flag</th>\n",
       "      <th>trip_duration</th>\n",
       "      <th>trip_duration_minutes</th>\n",
       "      <th>Pickup_dayofweek</th>\n",
       "      <th>pickup_hourofday</th>\n",
       "      <th>dropoff_hourofday</th>\n",
       "    </tr>\n",
       "  </thead>\n",
       "  <tbody>\n",
       "    <tr>\n",
       "      <th>0</th>\n",
       "      <td>583100</td>\n",
       "      <td>id3879397</td>\n",
       "      <td>1</td>\n",
       "      <td>2016-06-02 17:46:16</td>\n",
       "      <td>2016-06-02 18:22:26</td>\n",
       "      <td>1</td>\n",
       "      <td>-73.990105</td>\n",
       "      <td>40.732841</td>\n",
       "      <td>-73.973244</td>\n",
       "      <td>40.782879</td>\n",
       "      <td>N</td>\n",
       "      <td>2170</td>\n",
       "      <td>36.166667</td>\n",
       "      <td>Thursday</td>\n",
       "      <td>17</td>\n",
       "      <td>18</td>\n",
       "    </tr>\n",
       "    <tr>\n",
       "      <th>1</th>\n",
       "      <td>1320440</td>\n",
       "      <td>id0701659</td>\n",
       "      <td>1</td>\n",
       "      <td>2016-03-02 10:07:11</td>\n",
       "      <td>2016-03-02 10:20:39</td>\n",
       "      <td>1</td>\n",
       "      <td>-73.975693</td>\n",
       "      <td>40.759712</td>\n",
       "      <td>-73.988235</td>\n",
       "      <td>40.753986</td>\n",
       "      <td>N</td>\n",
       "      <td>808</td>\n",
       "      <td>13.466667</td>\n",
       "      <td>Wednesday</td>\n",
       "      <td>10</td>\n",
       "      <td>10</td>\n",
       "    </tr>\n",
       "    <tr>\n",
       "      <th>2</th>\n",
       "      <td>358078</td>\n",
       "      <td>id3093367</td>\n",
       "      <td>2</td>\n",
       "      <td>2016-02-17 17:18:27</td>\n",
       "      <td>2016-02-17 18:21:34</td>\n",
       "      <td>2</td>\n",
       "      <td>-73.781830</td>\n",
       "      <td>40.644772</td>\n",
       "      <td>-73.989960</td>\n",
       "      <td>40.747150</td>\n",
       "      <td>N</td>\n",
       "      <td>3787</td>\n",
       "      <td>63.116667</td>\n",
       "      <td>Wednesday</td>\n",
       "      <td>17</td>\n",
       "      <td>18</td>\n",
       "    </tr>\n",
       "    <tr>\n",
       "      <th>3</th>\n",
       "      <td>1118733</td>\n",
       "      <td>id0727316</td>\n",
       "      <td>2</td>\n",
       "      <td>2016-03-17 07:30:59</td>\n",
       "      <td>2016-03-17 07:42:18</td>\n",
       "      <td>1</td>\n",
       "      <td>-73.956200</td>\n",
       "      <td>40.778713</td>\n",
       "      <td>-73.976463</td>\n",
       "      <td>40.739731</td>\n",
       "      <td>N</td>\n",
       "      <td>679</td>\n",
       "      <td>11.316667</td>\n",
       "      <td>Thursday</td>\n",
       "      <td>7</td>\n",
       "      <td>7</td>\n",
       "    </tr>\n",
       "    <tr>\n",
       "      <th>4</th>\n",
       "      <td>110409</td>\n",
       "      <td>id2137873</td>\n",
       "      <td>2</td>\n",
       "      <td>2016-04-20 17:15:26</td>\n",
       "      <td>2016-04-20 18:01:57</td>\n",
       "      <td>6</td>\n",
       "      <td>-73.789513</td>\n",
       "      <td>40.646938</td>\n",
       "      <td>-73.951851</td>\n",
       "      <td>40.809151</td>\n",
       "      <td>N</td>\n",
       "      <td>2791</td>\n",
       "      <td>46.516667</td>\n",
       "      <td>Wednesday</td>\n",
       "      <td>17</td>\n",
       "      <td>18</td>\n",
       "    </tr>\n",
       "  </tbody>\n",
       "</table>\n",
       "</div>"
      ],
      "text/plain": [
       "   Unnamed: 0         id  vendor_id     pickup_datetime    dropoff_datetime  \\\n",
       "0      583100  id3879397          1 2016-06-02 17:46:16 2016-06-02 18:22:26   \n",
       "1     1320440  id0701659          1 2016-03-02 10:07:11 2016-03-02 10:20:39   \n",
       "2      358078  id3093367          2 2016-02-17 17:18:27 2016-02-17 18:21:34   \n",
       "3     1118733  id0727316          2 2016-03-17 07:30:59 2016-03-17 07:42:18   \n",
       "4      110409  id2137873          2 2016-04-20 17:15:26 2016-04-20 18:01:57   \n",
       "\n",
       "   passenger_count  pickup_longitude  pickup_latitude  dropoff_longitude  \\\n",
       "0                1        -73.990105        40.732841         -73.973244   \n",
       "1                1        -73.975693        40.759712         -73.988235   \n",
       "2                2        -73.781830        40.644772         -73.989960   \n",
       "3                1        -73.956200        40.778713         -73.976463   \n",
       "4                6        -73.789513        40.646938         -73.951851   \n",
       "\n",
       "   dropoff_latitude store_and_fwd_flag  trip_duration  trip_duration_minutes  \\\n",
       "0         40.782879                  N           2170              36.166667   \n",
       "1         40.753986                  N            808              13.466667   \n",
       "2         40.747150                  N           3787              63.116667   \n",
       "3         40.739731                  N            679              11.316667   \n",
       "4         40.809151                  N           2791              46.516667   \n",
       "\n",
       "  Pickup_dayofweek  pickup_hourofday  dropoff_hourofday  \n",
       "0         Thursday                17                 18  \n",
       "1        Wednesday                10                 10  \n",
       "2        Wednesday                17                 18  \n",
       "3         Thursday                 7                  7  \n",
       "4        Wednesday                17                 18  "
      ]
     },
     "execution_count": 24,
     "metadata": {},
     "output_type": "execute_result"
    }
   ],
   "source": [
    "df.head()"
   ]
  },
  {
   "cell_type": "code",
   "execution_count": 25,
   "metadata": {},
   "outputs": [],
   "source": [
    "def time_period(x):\n",
    "   if x >= 7 and x <= 9:\n",
    "       return 'morning_rush'\n",
    "   elif x >= 10 and x <= 16:\n",
    "       return 'day'\n",
    "   elif x >= 16 and x <= 18:\n",
    "       return 'evening_rush'\n",
    "   else:\n",
    "       return 'night'"
   ]
  },
  {
   "cell_type": "code",
   "execution_count": 26,
   "metadata": {},
   "outputs": [],
   "source": [
    "df['time_period'] = df['pickup_hourofday'].apply(lambda x: time_period(x))"
   ]
  },
  {
   "cell_type": "code",
   "execution_count": 27,
   "metadata": {},
   "outputs": [
    {
     "data": {
      "text/html": [
       "<div>\n",
       "<style scoped>\n",
       "    .dataframe tbody tr th:only-of-type {\n",
       "        vertical-align: middle;\n",
       "    }\n",
       "\n",
       "    .dataframe tbody tr th {\n",
       "        vertical-align: top;\n",
       "    }\n",
       "\n",
       "    .dataframe thead th {\n",
       "        text-align: right;\n",
       "    }\n",
       "</style>\n",
       "<table border=\"1\" class=\"dataframe\">\n",
       "  <thead>\n",
       "    <tr style=\"text-align: right;\">\n",
       "      <th></th>\n",
       "      <th>Unnamed: 0</th>\n",
       "      <th>id</th>\n",
       "      <th>vendor_id</th>\n",
       "      <th>pickup_datetime</th>\n",
       "      <th>dropoff_datetime</th>\n",
       "      <th>passenger_count</th>\n",
       "      <th>pickup_longitude</th>\n",
       "      <th>pickup_latitude</th>\n",
       "      <th>dropoff_longitude</th>\n",
       "      <th>dropoff_latitude</th>\n",
       "      <th>store_and_fwd_flag</th>\n",
       "      <th>trip_duration</th>\n",
       "      <th>trip_duration_minutes</th>\n",
       "      <th>Pickup_dayofweek</th>\n",
       "      <th>pickup_hourofday</th>\n",
       "      <th>dropoff_hourofday</th>\n",
       "      <th>time_period</th>\n",
       "    </tr>\n",
       "  </thead>\n",
       "  <tbody>\n",
       "    <tr>\n",
       "      <th>0</th>\n",
       "      <td>583100</td>\n",
       "      <td>id3879397</td>\n",
       "      <td>1</td>\n",
       "      <td>2016-06-02 17:46:16</td>\n",
       "      <td>2016-06-02 18:22:26</td>\n",
       "      <td>1</td>\n",
       "      <td>-73.990105</td>\n",
       "      <td>40.732841</td>\n",
       "      <td>-73.973244</td>\n",
       "      <td>40.782879</td>\n",
       "      <td>N</td>\n",
       "      <td>2170</td>\n",
       "      <td>36.166667</td>\n",
       "      <td>Thursday</td>\n",
       "      <td>17</td>\n",
       "      <td>18</td>\n",
       "      <td>evening_rush</td>\n",
       "    </tr>\n",
       "    <tr>\n",
       "      <th>1</th>\n",
       "      <td>1320440</td>\n",
       "      <td>id0701659</td>\n",
       "      <td>1</td>\n",
       "      <td>2016-03-02 10:07:11</td>\n",
       "      <td>2016-03-02 10:20:39</td>\n",
       "      <td>1</td>\n",
       "      <td>-73.975693</td>\n",
       "      <td>40.759712</td>\n",
       "      <td>-73.988235</td>\n",
       "      <td>40.753986</td>\n",
       "      <td>N</td>\n",
       "      <td>808</td>\n",
       "      <td>13.466667</td>\n",
       "      <td>Wednesday</td>\n",
       "      <td>10</td>\n",
       "      <td>10</td>\n",
       "      <td>day</td>\n",
       "    </tr>\n",
       "    <tr>\n",
       "      <th>2</th>\n",
       "      <td>358078</td>\n",
       "      <td>id3093367</td>\n",
       "      <td>2</td>\n",
       "      <td>2016-02-17 17:18:27</td>\n",
       "      <td>2016-02-17 18:21:34</td>\n",
       "      <td>2</td>\n",
       "      <td>-73.781830</td>\n",
       "      <td>40.644772</td>\n",
       "      <td>-73.989960</td>\n",
       "      <td>40.747150</td>\n",
       "      <td>N</td>\n",
       "      <td>3787</td>\n",
       "      <td>63.116667</td>\n",
       "      <td>Wednesday</td>\n",
       "      <td>17</td>\n",
       "      <td>18</td>\n",
       "      <td>evening_rush</td>\n",
       "    </tr>\n",
       "    <tr>\n",
       "      <th>3</th>\n",
       "      <td>1118733</td>\n",
       "      <td>id0727316</td>\n",
       "      <td>2</td>\n",
       "      <td>2016-03-17 07:30:59</td>\n",
       "      <td>2016-03-17 07:42:18</td>\n",
       "      <td>1</td>\n",
       "      <td>-73.956200</td>\n",
       "      <td>40.778713</td>\n",
       "      <td>-73.976463</td>\n",
       "      <td>40.739731</td>\n",
       "      <td>N</td>\n",
       "      <td>679</td>\n",
       "      <td>11.316667</td>\n",
       "      <td>Thursday</td>\n",
       "      <td>7</td>\n",
       "      <td>7</td>\n",
       "      <td>morning_rush</td>\n",
       "    </tr>\n",
       "    <tr>\n",
       "      <th>4</th>\n",
       "      <td>110409</td>\n",
       "      <td>id2137873</td>\n",
       "      <td>2</td>\n",
       "      <td>2016-04-20 17:15:26</td>\n",
       "      <td>2016-04-20 18:01:57</td>\n",
       "      <td>6</td>\n",
       "      <td>-73.789513</td>\n",
       "      <td>40.646938</td>\n",
       "      <td>-73.951851</td>\n",
       "      <td>40.809151</td>\n",
       "      <td>N</td>\n",
       "      <td>2791</td>\n",
       "      <td>46.516667</td>\n",
       "      <td>Wednesday</td>\n",
       "      <td>17</td>\n",
       "      <td>18</td>\n",
       "      <td>evening_rush</td>\n",
       "    </tr>\n",
       "  </tbody>\n",
       "</table>\n",
       "</div>"
      ],
      "text/plain": [
       "   Unnamed: 0         id  vendor_id     pickup_datetime    dropoff_datetime  \\\n",
       "0      583100  id3879397          1 2016-06-02 17:46:16 2016-06-02 18:22:26   \n",
       "1     1320440  id0701659          1 2016-03-02 10:07:11 2016-03-02 10:20:39   \n",
       "2      358078  id3093367          2 2016-02-17 17:18:27 2016-02-17 18:21:34   \n",
       "3     1118733  id0727316          2 2016-03-17 07:30:59 2016-03-17 07:42:18   \n",
       "4      110409  id2137873          2 2016-04-20 17:15:26 2016-04-20 18:01:57   \n",
       "\n",
       "   passenger_count  pickup_longitude  pickup_latitude  dropoff_longitude  \\\n",
       "0                1        -73.990105        40.732841         -73.973244   \n",
       "1                1        -73.975693        40.759712         -73.988235   \n",
       "2                2        -73.781830        40.644772         -73.989960   \n",
       "3                1        -73.956200        40.778713         -73.976463   \n",
       "4                6        -73.789513        40.646938         -73.951851   \n",
       "\n",
       "   dropoff_latitude store_and_fwd_flag  trip_duration  trip_duration_minutes  \\\n",
       "0         40.782879                  N           2170              36.166667   \n",
       "1         40.753986                  N            808              13.466667   \n",
       "2         40.747150                  N           3787              63.116667   \n",
       "3         40.739731                  N            679              11.316667   \n",
       "4         40.809151                  N           2791              46.516667   \n",
       "\n",
       "  Pickup_dayofweek  pickup_hourofday  dropoff_hourofday   time_period  \n",
       "0         Thursday                17                 18  evening_rush  \n",
       "1        Wednesday                10                 10           day  \n",
       "2        Wednesday                17                 18  evening_rush  \n",
       "3         Thursday                 7                  7  morning_rush  \n",
       "4        Wednesday                17                 18  evening_rush  "
      ]
     },
     "execution_count": 27,
     "metadata": {},
     "output_type": "execute_result"
    }
   ],
   "source": [
    "df.head()"
   ]
  },
  {
   "cell_type": "code",
   "execution_count": 28,
   "metadata": {},
   "outputs": [],
   "source": [
    "time_period = df.groupby ('time_period')['trip_duration_minutes'].count()"
   ]
  },
  {
   "cell_type": "code",
   "execution_count": 29,
   "metadata": {},
   "outputs": [
    {
     "data": {
      "text/plain": [
       "Text(0,0.5,'Number of Pickups')"
      ]
     },
     "execution_count": 29,
     "metadata": {},
     "output_type": "execute_result"
    },
    {
     "data": {
      "image/png": "[encoded data removed]",
      "text/plain": [
       "<Figure size 432x288 with 1 Axes>"
      ]
     },
     "metadata": {
      "needs_background": "light"
     },
     "output_type": "display_data"
    }
   ],
   "source": [
    "time_period.plot(kind='barh')\n",
    "plt.title('Cab Pickups by Commute Period')\n",
    "plt.xlabel('Commute Period')\n",
    "plt.ylabel ('Number of Pickups')"
   ]
  },
  {
   "cell_type": "code",
   "execution_count": 30,
   "metadata": {},
   "outputs": [
    {
     "data": {
      "text/html": [
       "<div>\n",
       "<style scoped>\n",
       "    .dataframe tbody tr th:only-of-type {\n",
       "        vertical-align: middle;\n",
       "    }\n",
       "\n",
       "    .dataframe tbody tr th {\n",
       "        vertical-align: top;\n",
       "    }\n",
       "\n",
       "    .dataframe thead th {\n",
       "        text-align: right;\n",
       "    }\n",
       "</style>\n",
       "<table border=\"1\" class=\"dataframe\">\n",
       "  <thead>\n",
       "    <tr style=\"text-align: right;\">\n",
       "      <th></th>\n",
       "      <th>Unnamed: 0</th>\n",
       "      <th>id</th>\n",
       "      <th>vendor_id</th>\n",
       "      <th>pickup_datetime</th>\n",
       "      <th>dropoff_datetime</th>\n",
       "      <th>passenger_count</th>\n",
       "      <th>pickup_longitude</th>\n",
       "      <th>pickup_latitude</th>\n",
       "      <th>dropoff_longitude</th>\n",
       "      <th>dropoff_latitude</th>\n",
       "      <th>store_and_fwd_flag</th>\n",
       "      <th>trip_duration</th>\n",
       "      <th>trip_duration_minutes</th>\n",
       "      <th>Pickup_dayofweek</th>\n",
       "      <th>pickup_hourofday</th>\n",
       "      <th>dropoff_hourofday</th>\n",
       "      <th>time_period</th>\n",
       "    </tr>\n",
       "  </thead>\n",
       "  <tbody>\n",
       "    <tr>\n",
       "      <th>0</th>\n",
       "      <td>583100</td>\n",
       "      <td>id3879397</td>\n",
       "      <td>1</td>\n",
       "      <td>2016-06-02 17:46:16</td>\n",
       "      <td>2016-06-02 18:22:26</td>\n",
       "      <td>1</td>\n",
       "      <td>-73.990105</td>\n",
       "      <td>40.732841</td>\n",
       "      <td>-73.973244</td>\n",
       "      <td>40.782879</td>\n",
       "      <td>N</td>\n",
       "      <td>2170</td>\n",
       "      <td>36.166667</td>\n",
       "      <td>Thursday</td>\n",
       "      <td>17</td>\n",
       "      <td>18</td>\n",
       "      <td>evening_rush</td>\n",
       "    </tr>\n",
       "    <tr>\n",
       "      <th>1</th>\n",
       "      <td>1320440</td>\n",
       "      <td>id0701659</td>\n",
       "      <td>1</td>\n",
       "      <td>2016-03-02 10:07:11</td>\n",
       "      <td>2016-03-02 10:20:39</td>\n",
       "      <td>1</td>\n",
       "      <td>-73.975693</td>\n",
       "      <td>40.759712</td>\n",
       "      <td>-73.988235</td>\n",
       "      <td>40.753986</td>\n",
       "      <td>N</td>\n",
       "      <td>808</td>\n",
       "      <td>13.466667</td>\n",
       "      <td>Wednesday</td>\n",
       "      <td>10</td>\n",
       "      <td>10</td>\n",
       "      <td>day</td>\n",
       "    </tr>\n",
       "    <tr>\n",
       "      <th>2</th>\n",
       "      <td>358078</td>\n",
       "      <td>id3093367</td>\n",
       "      <td>2</td>\n",
       "      <td>2016-02-17 17:18:27</td>\n",
       "      <td>2016-02-17 18:21:34</td>\n",
       "      <td>2</td>\n",
       "      <td>-73.781830</td>\n",
       "      <td>40.644772</td>\n",
       "      <td>-73.989960</td>\n",
       "      <td>40.747150</td>\n",
       "      <td>N</td>\n",
       "      <td>3787</td>\n",
       "      <td>63.116667</td>\n",
       "      <td>Wednesday</td>\n",
       "      <td>17</td>\n",
       "      <td>18</td>\n",
       "      <td>evening_rush</td>\n",
       "    </tr>\n",
       "    <tr>\n",
       "      <th>3</th>\n",
       "      <td>1118733</td>\n",
       "      <td>id0727316</td>\n",
       "      <td>2</td>\n",
       "      <td>2016-03-17 07:30:59</td>\n",
       "      <td>2016-03-17 07:42:18</td>\n",
       "      <td>1</td>\n",
       "      <td>-73.956200</td>\n",
       "      <td>40.778713</td>\n",
       "      <td>-73.976463</td>\n",
       "      <td>40.739731</td>\n",
       "      <td>N</td>\n",
       "      <td>679</td>\n",
       "      <td>11.316667</td>\n",
       "      <td>Thursday</td>\n",
       "      <td>7</td>\n",
       "      <td>7</td>\n",
       "      <td>morning_rush</td>\n",
       "    </tr>\n",
       "    <tr>\n",
       "      <th>4</th>\n",
       "      <td>110409</td>\n",
       "      <td>id2137873</td>\n",
       "      <td>2</td>\n",
       "      <td>2016-04-20 17:15:26</td>\n",
       "      <td>2016-04-20 18:01:57</td>\n",
       "      <td>6</td>\n",
       "      <td>-73.789513</td>\n",
       "      <td>40.646938</td>\n",
       "      <td>-73.951851</td>\n",
       "      <td>40.809151</td>\n",
       "      <td>N</td>\n",
       "      <td>2791</td>\n",
       "      <td>46.516667</td>\n",
       "      <td>Wednesday</td>\n",
       "      <td>17</td>\n",
       "      <td>18</td>\n",
       "      <td>evening_rush</td>\n",
       "    </tr>\n",
       "  </tbody>\n",
       "</table>\n",
       "</div>"
      ],
      "text/plain": [
       "   Unnamed: 0         id  vendor_id     pickup_datetime    dropoff_datetime  \\\n",
       "0      583100  id3879397          1 2016-06-02 17:46:16 2016-06-02 18:22:26   \n",
       "1     1320440  id0701659          1 2016-03-02 10:07:11 2016-03-02 10:20:39   \n",
       "2      358078  id3093367          2 2016-02-17 17:18:27 2016-02-17 18:21:34   \n",
       "3     1118733  id0727316          2 2016-03-17 07:30:59 2016-03-17 07:42:18   \n",
       "4      110409  id2137873          2 2016-04-20 17:15:26 2016-04-20 18:01:57   \n",
       "\n",
       "   passenger_count  pickup_longitude  pickup_latitude  dropoff_longitude  \\\n",
       "0                1        -73.990105        40.732841         -73.973244   \n",
       "1                1        -73.975693        40.759712         -73.988235   \n",
       "2                2        -73.781830        40.644772         -73.989960   \n",
       "3                1        -73.956200        40.778713         -73.976463   \n",
       "4                6        -73.789513        40.646938         -73.951851   \n",
       "\n",
       "   dropoff_latitude store_and_fwd_flag  trip_duration  trip_duration_minutes  \\\n",
       "0         40.782879                  N           2170              36.166667   \n",
       "1         40.753986                  N            808              13.466667   \n",
       "2         40.747150                  N           3787              63.116667   \n",
       "3         40.739731                  N            679              11.316667   \n",
       "4         40.809151                  N           2791              46.516667   \n",
       "\n",
       "  Pickup_dayofweek  pickup_hourofday  dropoff_hourofday   time_period  \n",
       "0         Thursday                17                 18  evening_rush  \n",
       "1        Wednesday                10                 10           day  \n",
       "2        Wednesday                17                 18  evening_rush  \n",
       "3         Thursday                 7                  7  morning_rush  \n",
       "4        Wednesday                17                 18  evening_rush  "
      ]
     },
     "execution_count": 30,
     "metadata": {},
     "output_type": "execute_result"
    }
   ],
   "source": [
    "weekday_pickup = df[(df.Pickup_dayofweek != 'Saturday') & (df.Pickup_dayofweek != 'Sunday')]\n",
    "\n",
    "weekday_pickup.head() "
   ]
  },
  {
   "cell_type": "code",
   "execution_count": 31,
   "metadata": {},
   "outputs": [],
   "source": [
    "weekday_time_count = weekday_pickup.groupby ('time_period')['trip_duration_minutes'].count()"
   ]
  },
  {
   "cell_type": "code",
   "execution_count": 32,
   "metadata": {},
   "outputs": [
    {
     "data": {
      "text/plain": [
       "Text(0,0.5,'Number of Pickups')"
      ]
     },
     "execution_count": 32,
     "metadata": {},
     "output_type": "execute_result"
    },
    {
     "data": {
      "image/png": "[encoded data removed]",
      "text/plain": [
       "<Figure size 432x288 with 1 Axes>"
      ]
     },
     "metadata": {
      "needs_background": "light"
     },
     "output_type": "display_data"
    }
   ],
   "source": [
    "weekday_time_count.plot(kind='barh')\n",
    "plt.title('Cab Pickups by Commute Period (excluding weekends)')\n",
    "plt.xlabel('Commute Period')\n",
    "plt.ylabel ('Number of Pickups')"
   ]
  },
  {
   "cell_type": "markdown",
   "metadata": {},
   "source": [
    "## Create a Heat Map of pick-up locations and times"
   ]
  },
  {
   "cell_type": "code",
   "execution_count": 33,
   "metadata": {},
   "outputs": [
    {
     "name": "stdout",
     "output_type": "stream",
     "text": [
      "Solving environment: done\n",
      "\n",
      "# All requested packages already installed.\n",
      "\n"
     ]
    }
   ],
   "source": [
    "! conda install -y -c conda-forge folium "
   ]
  },
  {
   "cell_type": "code",
   "execution_count": 34,
   "metadata": {},
   "outputs": [],
   "source": [
    "import folium"
   ]
  },
  {
   "cell_type": "code",
   "execution_count": 35,
   "metadata": {
    "scrolled": true
   },
   "outputs": [
    {
     "data": {
      "text/html": [
       "<div style=\"width:100%;\"><div style=\"position:relative;width:100%;height:0;padding-bottom:60%;\"><iframe src=\"data:text/html;charset=utf-8;base64,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\" style=\"position:absolute;width:100%;height:100%;left:0;top:0;border:none !important;\" allowfullscreen webkitallowfullscreen mozallowfullscreen></iframe></div></div>"
      ],
      "text/plain": [
       "<folium.folium.Map at 0x1a3b4b46a0>"
      ]
     },
     "execution_count": 35,
     "metadata": {},
     "output_type": "execute_result"
    }
   ],
   "source": [
    "lat = df.pickup_latitude.mean()\n",
    "long = df.pickup_longitude.mean()\n",
    "\n",
    "#Create a map of the area\n",
    "cab_map = folium.Map([lat, long])\n",
    "cab_map\n"
   ]
  },
  {
   "cell_type": "code",
   "execution_count": 1,
   "metadata": {},
   "outputs": [
    {
     "ename": "NameError",
     "evalue": "name 'folium' is not defined",
     "output_type": "error",
     "traceback": [
      "\u001b[0;31m---------------------------------------------------------------------------\u001b[0m",
      "\u001b[0;31mNameError\u001b[0m                                 Traceback (most recent call last)",
      "\u001b[0;32m<ipython-input-1-8b5de037f8b8>\u001b[0m in \u001b[0;36m<module>\u001b[0;34m()\u001b[0m\n\u001b[0;32m----> 1\u001b[0;31m \u001b[0mcab_map\u001b[0m \u001b[0;34m=\u001b[0m \u001b[0mfolium\u001b[0m\u001b[0;34m.\u001b[0m\u001b[0mMap\u001b[0m\u001b[0;34m(\u001b[0m\u001b[0;34m[\u001b[0m\u001b[0mlat\u001b[0m\u001b[0;34m,\u001b[0m \u001b[0mlong\u001b[0m\u001b[0;34m]\u001b[0m\u001b[0;34m)\u001b[0m\u001b[0;34m\u001b[0m\u001b[0m\n\u001b[0m\u001b[1;32m      2\u001b[0m \u001b[0;34m\u001b[0m\u001b[0m\n\u001b[1;32m      3\u001b[0m \u001b[0;32mfor\u001b[0m \u001b[0mrow\u001b[0m \u001b[0;32min\u001b[0m \u001b[0mdf\u001b[0m\u001b[0;34m.\u001b[0m\u001b[0msample\u001b[0m\u001b[0;34m(\u001b[0m\u001b[0;36m500\u001b[0m\u001b[0;34m)\u001b[0m\u001b[0;34m.\u001b[0m\u001b[0mindex\u001b[0m\u001b[0;34m:\u001b[0m\u001b[0;34m\u001b[0m\u001b[0m\n\u001b[1;32m      4\u001b[0m     \u001b[0mlat\u001b[0m \u001b[0;34m=\u001b[0m \u001b[0mdf\u001b[0m\u001b[0;34m[\u001b[0m\u001b[0;34m'pickup_latitude'\u001b[0m\u001b[0;34m]\u001b[0m\u001b[0;34m[\u001b[0m\u001b[0mrow\u001b[0m\u001b[0;34m]\u001b[0m\u001b[0;34m\u001b[0m\u001b[0m\n\u001b[1;32m      5\u001b[0m     \u001b[0mlong\u001b[0m \u001b[0;34m=\u001b[0m \u001b[0mdf\u001b[0m\u001b[0;34m[\u001b[0m\u001b[0;34m'pickup_longitude'\u001b[0m\u001b[0;34m]\u001b[0m\u001b[0;34m[\u001b[0m\u001b[0mrow\u001b[0m\u001b[0;34m]\u001b[0m\u001b[0;34m\u001b[0m\u001b[0m\n",
      "\u001b[0;31mNameError\u001b[0m: name 'folium' is not defined"
     ]
    }
   ],
   "source": [
    "cab_map = folium.Map([lat, long])\n",
    "\n",
    "for row in df.sample(500).index:\n",
    "    lat = df['pickup_latitude'][row]\n",
    "    long = df['pickup_longitude'][row]\n",
    "    dur = df['trip_duration'][row]\n",
    "    passengers = df['passenger_count'][row]\n",
    "    details = 'Duration: {} Passengers:{}'.format(dur, passengers)\n",
    "    marker = folium.Marker([lat, long], popup= details) \n",
    "    marker.add_to(cab_map)\n",
    "cab_map"
   ]
  },
  {
   "cell_type": "code",
   "execution_count": 39,
   "metadata": {},
   "outputs": [
    {
     "name": "stderr",
     "output_type": "stream",
     "text": [
      "/Users/saupochan/anaconda3/lib/python3.7/site-packages/ipykernel_launcher.py:13: SettingWithCopyWarning: \n",
      "A value is trying to be set on a copy of a slice from a DataFrame.\n",
      "Try using .loc[row_indexer,col_indexer] = value instead\n",
      "\n",
      "See the caveats in the documentation: http://pandas.pydata.org/pandas-docs/stable/indexing.html#indexing-view-versus-copy\n",
      "  del sys.path[0]\n",
      "/Users/saupochan/anaconda3/lib/python3.7/site-packages/ipykernel_launcher.py:14: SettingWithCopyWarning: \n",
      "A value is trying to be set on a copy of a slice from a DataFrame.\n",
      "Try using .loc[row_indexer,col_indexer] = value instead\n",
      "\n",
      "See the caveats in the documentation: http://pandas.pydata.org/pandas-docs/stable/indexing.html#indexing-view-versus-copy\n",
      "  \n"
     ]
    },
    {
     "data": {
      "text/html": [
       "<div style=\"width:100%;\"><div style=\"position:relative;width:100%;height:0;padding-bottom:60%;\"><iframe src=\"data:text/html;charset=utf-8;base64,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\" style=\"position:absolute;width:100%;height:100%;left:0;top:0;border:none !important;\" allowfullscreen webkitallowfullscreen mozallowfullscreen></iframe></div></div>"
      ],
      "text/plain": [
       "<folium.folium.Map at 0x11239d5c0>"
      ]
     },
     "execution_count": 39,
     "metadata": {},
     "output_type": "execute_result"
    }
   ],
   "source": [
    "#Making a heatmap for pickup locations - call it newyork_on_heatmap\n",
    "#The redder a dot is, the longer the trip duration was from that pickup point\n",
    "\n",
    "from folium import plugins\n",
    "from folium.plugins import HeatMap\n",
    "\n",
    "\n",
    "heat_df = df[['pickup_latitude', 'pickup_longitude', 'trip_duration_minutes']]\n",
    "\n",
    "\n",
    "newyork_on_heatmap = folium.Map(location=[40.767937,-73.982155 ],tiles= \"Stamen Terrain\",\n",
    "                   zoom_start = 13)\n",
    "\n",
    "heat_df['Weight'] = heat_df['trip_duration_minutes']\n",
    "heat_df['Weight'] = heat_df['Weight'].astype(float)\n",
    "heat_df = heat_df.dropna(axis=0, subset=['pickup_latitude','pickup_longitude', 'Weight'])\n",
    "\n",
    "# List comprehension to make out list of lists\n",
    "heat_data = [[[row['pickup_latitude'],row['pickup_longitude']]\n",
    "               for index, row in heat_df[heat_df['Weight'] == i].iterrows()]\n",
    "                for i in range(0,6)]\n",
    "\n",
    "# Plot it on the map\n",
    "hm = plugins.HeatMapWithTime(heat_data,auto_play=True,max_opacity=0.8)\n",
    "hm.add_to(newyork_on_heatmap)\n",
    "\n",
    "# Display the map\n",
    "newyork_on_heatmap"
   ]
  },
  {
   "cell_type": "code",
   "execution_count": null,
   "metadata": {},
   "outputs": [],
   "source": []
  },
  {
   "cell_type": "markdown",
   "metadata": {},
   "source": [
    "## Cleaning up the heatmap - Create a heatmap showing density of pickup\n",
    "* Drop 4 decimals from the latitute and longitude using apply.df\n",
    "* Use groupby apply to put the locations into buckets by block\n",
    "* Find the average of pickups per block from pickup_location\n",
    "## OK Guess we're not doing that"
   ]
  },
  {
   "cell_type": "code",
   "execution_count": 36,
   "metadata": {},
   "outputs": [],
   "source": [
    "row_count = sum(1 for row in ('./Datasets/NYC_Cab_Duration.csv'))"
   ]
  },
  {
   "cell_type": "code",
   "execution_count": 37,
   "metadata": {},
   "outputs": [
    {
     "name": "stdout",
     "output_type": "stream",
     "text": [
      "31\n"
     ]
    }
   ],
   "source": [
    "print (row_count)"
   ]
  },
  {
   "cell_type": "markdown",
   "metadata": {},
   "source": [
    "# Running Regression"
   ]
  },
  {
   "cell_type": "code",
   "execution_count": 38,
   "metadata": {},
   "outputs": [
    {
     "name": "stdout",
     "output_type": "stream",
     "text": [
      "R^2 model score: 0.0013507493768188938 \n",
      "\n"
     ]
    }
   ],
   "source": [
    "#1) Import packages\n",
    "from sklearn.linear_model import LinearRegression\n",
    "\n",
    "#2) Define X and y\n",
    "X = df[['passenger_count', 'pickup_longitude', 'pickup_latitude', 'dropoff_longitude', 'dropoff_latitude' ]] #Only numeric features work\n",
    "\n",
    "y = df['trip_duration']\n",
    "\n",
    "#3) Initialize a regression object\n",
    "linreg = LinearRegression()\n",
    "\n",
    "# 4) Fit the model\n",
    "linreg.fit(X, y)\n",
    "\n",
    "# 5) Use the model to predict outputs\n",
    "df['trip_duration'] = linreg.predict(X)\n",
    "\n",
    "# 6) Measure performance\n",
    "# Here we print the model's R^2 to measure overall performance; the correlation between our model and the data\n",
    "print('R^2 model score:', linreg.score(X,y), '\\n') "
   ]
  },
  {
   "cell_type": "markdown",
   "metadata": {},
   "source": [
    "# Round the locations to bins\n",
    "* Dropping the last two digits of the latitude and longitude"
   ]
  },
  {
   "cell_type": "code",
   "execution_count": 48,
   "metadata": {},
   "outputs": [],
   "source": [
    "#rounding longitude and latitude for pickup and dropoff\n",
    "\n",
    "df['pickup_lat_5'] = df['pickup_latitude'].round(5)\n",
    "df['pickup_long_5'] = df['pickup_longitude'].round(5)\n",
    "df['dropoff_lat_5'] = df['dropoff_latitude'].round(5)\n",
    "df['dropoff_long_5'] = df['dropoff_longitude'].round(5)"
   ]
  },
  {
   "cell_type": "code",
   "execution_count": 49,
   "metadata": {},
   "outputs": [
    {
     "data": {
      "text/html": [
       "<div>\n",
       "<style scoped>\n",
       "    .dataframe tbody tr th:only-of-type {\n",
       "        vertical-align: middle;\n",
       "    }\n",
       "\n",
       "    .dataframe tbody tr th {\n",
       "        vertical-align: top;\n",
       "    }\n",
       "\n",
       "    .dataframe thead th {\n",
       "        text-align: right;\n",
       "    }\n",
       "</style>\n",
       "<table border=\"1\" class=\"dataframe\">\n",
       "  <thead>\n",
       "    <tr style=\"text-align: right;\">\n",
       "      <th></th>\n",
       "      <th>Unnamed: 0</th>\n",
       "      <th>id</th>\n",
       "      <th>vendor_id</th>\n",
       "      <th>pickup_datetime</th>\n",
       "      <th>dropoff_datetime</th>\n",
       "      <th>passenger_count</th>\n",
       "      <th>pickup_longitude</th>\n",
       "      <th>pickup_latitude</th>\n",
       "      <th>dropoff_longitude</th>\n",
       "      <th>dropoff_latitude</th>\n",
       "      <th>...</th>\n",
       "      <th>Pickup_dayofweek</th>\n",
       "      <th>pickup_hourofday</th>\n",
       "      <th>dropoff_hourofday</th>\n",
       "      <th>time_period</th>\n",
       "      <th>pickup_longitude_round</th>\n",
       "      <th>pickup_latitude_round</th>\n",
       "      <th>pickup_lat_5</th>\n",
       "      <th>pickup_long_5</th>\n",
       "      <th>dropoff_lat_5</th>\n",
       "      <th>dropoff_long_5</th>\n",
       "    </tr>\n",
       "  </thead>\n",
       "  <tbody>\n",
       "    <tr>\n",
       "      <th>0</th>\n",
       "      <td>583100</td>\n",
       "      <td>id3879397</td>\n",
       "      <td>1</td>\n",
       "      <td>2016-06-02 17:46:16</td>\n",
       "      <td>2016-06-02 18:22:26</td>\n",
       "      <td>1</td>\n",
       "      <td>-73.990105</td>\n",
       "      <td>40.732841</td>\n",
       "      <td>-73.973244</td>\n",
       "      <td>40.782879</td>\n",
       "      <td>...</td>\n",
       "      <td>Thursday</td>\n",
       "      <td>17</td>\n",
       "      <td>18</td>\n",
       "      <td>evening_rush</td>\n",
       "      <td>-73.99010</td>\n",
       "      <td>40.73284</td>\n",
       "      <td>40.73284</td>\n",
       "      <td>-73.99010</td>\n",
       "      <td>40.78288</td>\n",
       "      <td>-73.97324</td>\n",
       "    </tr>\n",
       "    <tr>\n",
       "      <th>1</th>\n",
       "      <td>1320440</td>\n",
       "      <td>id0701659</td>\n",
       "      <td>1</td>\n",
       "      <td>2016-03-02 10:07:11</td>\n",
       "      <td>2016-03-02 10:20:39</td>\n",
       "      <td>1</td>\n",
       "      <td>-73.975693</td>\n",
       "      <td>40.759712</td>\n",
       "      <td>-73.988235</td>\n",
       "      <td>40.753986</td>\n",
       "      <td>...</td>\n",
       "      <td>Wednesday</td>\n",
       "      <td>10</td>\n",
       "      <td>10</td>\n",
       "      <td>day</td>\n",
       "      <td>-73.97569</td>\n",
       "      <td>40.75971</td>\n",
       "      <td>40.75971</td>\n",
       "      <td>-73.97569</td>\n",
       "      <td>40.75399</td>\n",
       "      <td>-73.98824</td>\n",
       "    </tr>\n",
       "    <tr>\n",
       "      <th>2</th>\n",
       "      <td>358078</td>\n",
       "      <td>id3093367</td>\n",
       "      <td>2</td>\n",
       "      <td>2016-02-17 17:18:27</td>\n",
       "      <td>2016-02-17 18:21:34</td>\n",
       "      <td>2</td>\n",
       "      <td>-73.781830</td>\n",
       "      <td>40.644772</td>\n",
       "      <td>-73.989960</td>\n",
       "      <td>40.747150</td>\n",
       "      <td>...</td>\n",
       "      <td>Wednesday</td>\n",
       "      <td>17</td>\n",
       "      <td>18</td>\n",
       "      <td>evening_rush</td>\n",
       "      <td>-73.78183</td>\n",
       "      <td>40.64477</td>\n",
       "      <td>40.64477</td>\n",
       "      <td>-73.78183</td>\n",
       "      <td>40.74715</td>\n",
       "      <td>-73.98996</td>\n",
       "    </tr>\n",
       "    <tr>\n",
       "      <th>3</th>\n",
       "      <td>1118733</td>\n",
       "      <td>id0727316</td>\n",
       "      <td>2</td>\n",
       "      <td>2016-03-17 07:30:59</td>\n",
       "      <td>2016-03-17 07:42:18</td>\n",
       "      <td>1</td>\n",
       "      <td>-73.956200</td>\n",
       "      <td>40.778713</td>\n",
       "      <td>-73.976463</td>\n",
       "      <td>40.739731</td>\n",
       "      <td>...</td>\n",
       "      <td>Thursday</td>\n",
       "      <td>7</td>\n",
       "      <td>7</td>\n",
       "      <td>morning_rush</td>\n",
       "      <td>-73.95620</td>\n",
       "      <td>40.77871</td>\n",
       "      <td>40.77871</td>\n",
       "      <td>-73.95620</td>\n",
       "      <td>40.73973</td>\n",
       "      <td>-73.97646</td>\n",
       "    </tr>\n",
       "    <tr>\n",
       "      <th>4</th>\n",
       "      <td>110409</td>\n",
       "      <td>id2137873</td>\n",
       "      <td>2</td>\n",
       "      <td>2016-04-20 17:15:26</td>\n",
       "      <td>2016-04-20 18:01:57</td>\n",
       "      <td>6</td>\n",
       "      <td>-73.789513</td>\n",
       "      <td>40.646938</td>\n",
       "      <td>-73.951851</td>\n",
       "      <td>40.809151</td>\n",
       "      <td>...</td>\n",
       "      <td>Wednesday</td>\n",
       "      <td>17</td>\n",
       "      <td>18</td>\n",
       "      <td>evening_rush</td>\n",
       "      <td>-73.78951</td>\n",
       "      <td>40.64694</td>\n",
       "      <td>40.64694</td>\n",
       "      <td>-73.78951</td>\n",
       "      <td>40.80915</td>\n",
       "      <td>-73.95185</td>\n",
       "    </tr>\n",
       "  </tbody>\n",
       "</table>\n",
       "<p>5 rows × 23 columns</p>\n",
       "</div>"
      ],
      "text/plain": [
       "   Unnamed: 0         id  vendor_id     pickup_datetime    dropoff_datetime  \\\n",
       "0      583100  id3879397          1 2016-06-02 17:46:16 2016-06-02 18:22:26   \n",
       "1     1320440  id0701659          1 2016-03-02 10:07:11 2016-03-02 10:20:39   \n",
       "2      358078  id3093367          2 2016-02-17 17:18:27 2016-02-17 18:21:34   \n",
       "3     1118733  id0727316          2 2016-03-17 07:30:59 2016-03-17 07:42:18   \n",
       "4      110409  id2137873          2 2016-04-20 17:15:26 2016-04-20 18:01:57   \n",
       "\n",
       "   passenger_count  pickup_longitude  pickup_latitude  dropoff_longitude  \\\n",
       "0                1        -73.990105        40.732841         -73.973244   \n",
       "1                1        -73.975693        40.759712         -73.988235   \n",
       "2                2        -73.781830        40.644772         -73.989960   \n",
       "3                1        -73.956200        40.778713         -73.976463   \n",
       "4                6        -73.789513        40.646938         -73.951851   \n",
       "\n",
       "   dropoff_latitude       ...       Pickup_dayofweek  pickup_hourofday  \\\n",
       "0         40.782879       ...               Thursday                17   \n",
       "1         40.753986       ...              Wednesday                10   \n",
       "2         40.747150       ...              Wednesday                17   \n",
       "3         40.739731       ...               Thursday                 7   \n",
       "4         40.809151       ...              Wednesday                17   \n",
       "\n",
       "   dropoff_hourofday   time_period  pickup_longitude_round  \\\n",
       "0                 18  evening_rush               -73.99010   \n",
       "1                 10           day               -73.97569   \n",
       "2                 18  evening_rush               -73.78183   \n",
       "3                  7  morning_rush               -73.95620   \n",
       "4                 18  evening_rush               -73.78951   \n",
       "\n",
       "   pickup_latitude_round pickup_lat_5  pickup_long_5  dropoff_lat_5  \\\n",
       "0               40.73284     40.73284      -73.99010       40.78288   \n",
       "1               40.75971     40.75971      -73.97569       40.75399   \n",
       "2               40.64477     40.64477      -73.78183       40.74715   \n",
       "3               40.77871     40.77871      -73.95620       40.73973   \n",
       "4               40.64694     40.64694      -73.78951       40.80915   \n",
       "\n",
       "   dropoff_long_5  \n",
       "0       -73.97324  \n",
       "1       -73.98824  \n",
       "2       -73.98996  \n",
       "3       -73.97646  \n",
       "4       -73.95185  \n",
       "\n",
       "[5 rows x 23 columns]"
      ]
     },
     "execution_count": 49,
     "metadata": {},
     "output_type": "execute_result"
    }
   ],
   "source": [
    "df.head()"
   ]
  },
  {
   "cell_type": "code",
   "execution_count": null,
   "metadata": {},
   "outputs": [],
   "source": []
  }
 ],
 "metadata": {
  "kernelspec": {
   "display_name": "Python 3",
   "language": "python",
   "name": "python3"
  },
  "language_info": {
   "codemirror_mode": {
    "name": "ipython",
    "version": 3
   },
   "file_extension": ".py",
   "mimetype": "text/x-python",
   "name": "python",
   "nbconvert_exporter": "python",
   "pygments_lexer": "ipython3",
   "version": "3.7.0"
  }
 },
 "nbformat": 4,
 "nbformat_minor": 2
}
